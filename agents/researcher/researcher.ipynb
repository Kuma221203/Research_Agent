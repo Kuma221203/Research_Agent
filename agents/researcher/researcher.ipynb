{
 "cells": [
  {
   "cell_type": "code",
   "execution_count": 1,
   "metadata": {},
   "outputs": [
    {
     "name": "stdout",
     "output_type": "stream",
     "text": [
      "d:\\project\\2025\\research_agent\n"
     ]
    }
   ],
   "source": [
    "%cd ../../"
   ]
  },
  {
   "cell_type": "code",
   "execution_count": 8,
   "metadata": {},
   "outputs": [],
   "source": [
    "from config.config import settings\n",
    "from collections import deque\n",
    "from IPython.display import Markdown\n",
    "from agents.researcher.graph import researcher"
   ]
  },
  {
   "cell_type": "code",
   "execution_count": null,
   "metadata": {},
   "outputs": [
    {
     "name": "stdout",
     "output_type": "stream",
     "text": [
      "Name: Dr. Emily Chen\n",
      "Affiliation: OpenAI Research\n",
      "Role: Natural Language Processing Specialist\n",
      "Description: Dr. Chen focuses on the technical capabilities and performance metrics of langchain and langgraph. She is particularly interested in how these frameworks handle complex language models and their efficiency in processing large datasets.\n",
      "--------------------------------------------------\n",
      "Name: Mr. John Smith\n",
      "Affiliation: Tech Innovators Inc.\n",
      "Role: Software Development Expert\n",
      "Description: Mr. Smith examines the practical applications and integration capabilities of langchain and langgraph in real-world software development. His analysis includes ease of use, flexibility, and the support provided for developers.\n",
      "--------------------------------------------------\n",
      "Name: Ms. Aisha Patel\n",
      "Affiliation: Data Ethics Council\n",
      "Role: Ethical AI Analyst\n",
      "Description: Ms. Patel explores the ethical implications and data privacy concerns associated with using langchain and langgraph. She evaluates how these frameworks address issues such as bias, transparency, and user data protection.\n",
      "--------------------------------------------------\n"
     ]
    }
   ],
   "source": [
    "max_analysts = 3 \n",
    "topic = \"The benefits of adopting LangGraph as an agent framework\"\n",
    "thread = {\"configurable\": {\"thread_id\": \"1\"}}\n",
    "\n",
    "# Run the graph until the first interruption\n",
    "for event in researcher.stream({\"topic\":topic,\n",
    "                            \"max_analysts\":max_analysts}, \n",
    "                            thread, \n",
    "                            stream_mode=\"values\"):\n",
    "    analysts = event.get('analysts', '')\n",
    "    if analysts:\n",
    "        for analyst in analysts:\n",
    "            print(f\"Name: {analyst.name}\")\n",
    "            print(f\"Affiliation: {analyst.affiliation}\")\n",
    "            print(f\"Role: {analyst.role}\")\n",
    "            print(f\"Description: {analyst.description}\")\n",
    "            print(\"-\" * 50)  \n",
    "    # continue"
   ]
  },
  {
   "cell_type": "code",
   "execution_count": 4,
   "metadata": {},
   "outputs": [
    {
     "data": {
      "text/plain": [
       "{'configurable': {'thread_id': '1',\n",
       "  'checkpoint_ns': '',\n",
       "  'checkpoint_id': '1f00eedd-7390-668c-8002-467bb33f332d'}}"
      ]
     },
     "execution_count": 4,
     "metadata": {},
     "output_type": "execute_result"
    }
   ],
   "source": [
    "researcher.update_state(thread, {\"human_analyst_feedback\": \n",
    "                                \"Add in the CEO of gen ai native startup\"}, as_node=\"human_feedback\")"
   ]
  },
  {
   "cell_type": "code",
   "execution_count": null,
   "metadata": {},
   "outputs": [
    {
     "name": "stdout",
     "output_type": "stream",
     "text": [
      "[Analyst(affiliation='Langchain Inc.', name='Dr. Emily Carter', role='Lead Research Scientist', description=\"Dr. Emily Carter focuses on the technical capabilities and performance metrics of langchain. Her primary concern is understanding how langchain's architecture and algorithms compare to those of langgraph, particularly in terms of scalability, efficiency, and integration with existing systems. She is interested in the technical nuances that differentiate the two technologies and how these differences impact their practical applications.\"), Analyst(affiliation='Langgraph Solutions', name='Mr. Raj Patel', role='Product Manager', description='Mr. Raj Patel is responsible for overseeing the development and market positioning of langgraph. His focus is on the user experience and feature set of langgraph compared to langchain. He is particularly concerned with how langgraph meets the needs of its users, its ease of use, and the unique features it offers that might give it a competitive edge in the market. Raj is interested in gathering feedback from users to continuously improve the product.'), Analyst(affiliation='Gen AI Native Startup', name='Ms. Sarah Lee', role='CEO', description=\"Ms. Sarah Lee is the CEO of a startup that heavily relies on generative AI technologies. Her focus is on the strategic implications of choosing between langchain and langgraph for her company's AI infrastructure. She is concerned with factors such as cost-effectiveness, long-term viability, and the potential for innovation that each platform offers. Sarah is interested in how each technology can support her company's growth and competitive advantage in the rapidly evolving AI landscape.\")]\n",
      "Name: Dr. Emily Carter\n",
      "Affiliation: Langchain Inc.\n",
      "Role: Lead Research Scientist\n",
      "Description: Dr. Emily Carter focuses on the technical capabilities and performance metrics of langchain. Her primary concern is understanding how langchain's architecture and algorithms compare to those of langgraph, particularly in terms of scalability, efficiency, and integration with existing systems. She is interested in the technical nuances that differentiate the two technologies and how these differences impact their practical applications.\n",
      "--------------------------------------------------\n",
      "Name: Mr. Raj Patel\n",
      "Affiliation: Langgraph Solutions\n",
      "Role: Product Manager\n",
      "Description: Mr. Raj Patel is responsible for overseeing the development and market positioning of langgraph. His focus is on the user experience and feature set of langgraph compared to langchain. He is particularly concerned with how langgraph meets the needs of its users, its ease of use, and the unique features it offers that might give it a competitive edge in the market. Raj is interested in gathering feedback from users to continuously improve the product.\n",
      "--------------------------------------------------\n",
      "Name: Ms. Sarah Lee\n",
      "Affiliation: Gen AI Native Startup\n",
      "Role: CEO\n",
      "Description: Ms. Sarah Lee is the CEO of a startup that heavily relies on generative AI technologies. Her focus is on the strategic implications of choosing between langchain and langgraph for her company's AI infrastructure. She is concerned with factors such as cost-effectiveness, long-term viability, and the potential for innovation that each platform offers. Sarah is interested in how each technology can support her company's growth and competitive advantage in the rapidly evolving AI landscape.\n",
      "--------------------------------------------------\n",
      "[Analyst(affiliation='Langchain Inc.', name='Dr. Emily Carter', role='Lead Research Scientist', description=\"Dr. Emily Carter focuses on the technical capabilities and performance metrics of langchain. Her primary concern is understanding how langchain's architecture and algorithms compare to those of langgraph, particularly in terms of scalability, efficiency, and integration with existing systems. She is interested in the technical nuances that differentiate the two technologies and how these differences impact their practical applications.\"), Analyst(affiliation='Langgraph Solutions', name='Mr. Raj Patel', role='Product Manager', description='Mr. Raj Patel is responsible for overseeing the development and market positioning of langgraph. His focus is on the user experience and feature set of langgraph compared to langchain. He is particularly concerned with how langgraph meets the needs of its users, its ease of use, and the unique features it offers that might give it a competitive edge in the market. Raj is interested in gathering feedback from users to continuously improve the product.'), Analyst(affiliation='Gen AI Native Startup', name='Ms. Sarah Lee', role='CEO', description=\"Ms. Sarah Lee is the CEO of a startup that heavily relies on generative AI technologies. Her focus is on the strategic implications of choosing between langchain and langgraph for her company's AI infrastructure. She is concerned with factors such as cost-effectiveness, long-term viability, and the potential for innovation that each platform offers. Sarah is interested in how each technology can support her company's growth and competitive advantage in the rapidly evolving AI landscape.\")]\n"
     ]
    }
   ],
   "source": [
    "generator_analysts = researcher.stream(None, thread, stream_mode=\"values\")\n",
    "last_value = deque(generator_analysts, maxlen=1).pop()\n",
    "analysts = last_value.get('analysts', '')\n",
    "if analysts:\n",
    "    for analyst in analysts:\n",
    "        print(f\"Name: {analyst.name}\")\n",
    "        print(f\"Affiliation: {analyst.affiliation}\")\n",
    "        print(f\"Role: {analyst.role}\")\n",
    "        print(f\"Description: {analyst.description}\")\n",
    "        print(\"-\" * 50)\n"
   ]
  },
  {
   "cell_type": "code",
   "execution_count": 6,
   "metadata": {},
   "outputs": [
    {
     "data": {
      "text/plain": [
       "{'configurable': {'thread_id': '1',\n",
       "  'checkpoint_ns': '',\n",
       "  'checkpoint_id': '1f00eebb-d872-6f65-8004-9e5872b97620'}}"
      ]
     },
     "execution_count": 6,
     "metadata": {},
     "output_type": "execute_result"
    }
   ],
   "source": [
    "researcher.update_state(thread, {\"human_analyst_feedback\": \n",
    "                            None}, as_node=\"human_feedback\")"
   ]
  },
  {
   "cell_type": "code",
   "execution_count": 7,
   "metadata": {},
   "outputs": [
    {
     "name": "stdout",
     "output_type": "stream",
     "text": [
      "--Node--\n",
      "conduct_interview\n",
      "--Node--\n",
      "conduct_interview\n",
      "--Node--\n",
      "conduct_interview\n",
      "--Node--\n",
      "write_introduction\n",
      "--Node--\n",
      "write_conclusion\n",
      "--Node--\n",
      "write_report\n",
      "--Node--\n",
      "finalize_report\n"
     ]
    }
   ],
   "source": [
    "for event in researcher.stream(None, thread, stream_mode=\"updates\"):\n",
    "    print(\"--Node--\")\n",
    "    node_name = next(iter(event.keys()))\n",
    "    print(node_name)"
   ]
  },
  {
   "cell_type": "code",
   "execution_count": 10,
   "metadata": {},
   "outputs": [
    {
     "data": {
      "text/markdown": [
       "# LangChain vs LangGraph: Navigating the Future of AI Frameworks\n",
       "\n",
       "## Introduction\n",
       "\n",
       "In the dynamic realm of AI and natural language processing (NLP), selecting the right framework is pivotal for leveraging large language models (LLMs) effectively. This report delves into LangChain and LangGraph, two leading frameworks that offer distinct advantages for AI-driven application development. LangChain is celebrated for its modular approach, enabling customizable and scalable workflows, while LangGraph excels in orchestrating complex, stateful, multi-agent workflows. We explore their technical capabilities, practical implementation perspectives, and potential for business innovation, providing insights into how these frameworks can be harnessed for competitive advantage in the evolving AI landscape.\n",
       "\n",
       "--\n",
       "\n",
       "\n",
       "\n",
       "In the dynamic field of AI and natural language processing (NLP), LangChain and LangGraph have emerged as pivotal frameworks for developers working with large language models (LLMs). Each framework offers distinct advantages and caters to different needs in AI-driven application development. LangChain is celebrated for its modular development approach, which facilitates the creation of highly customizable and scalable LLM workflows. It integrates components such as prompts, chains, agents, and memory, making it a robust tool for constructing complex NLP and agentic applications [1][2]. Conversely, LangGraph specializes in orchestrating stateful, multi-agent workflows through a graph-based structure, enabling complex decision-making processes [1][3].\n",
       "\n",
       "LangChain's modularity provides developers with the flexibility to mix and match components, crucial in the diverse field of NLP where no one-size-fits-all solution exists [2]. This adaptability makes LangChain suitable for a wide range of applications, from content generation to customer support [2]. Meanwhile, LangGraph's focus on stateful orchestration allows it to handle more complex, non-linear workflows, making it ideal for applications requiring multiple decision paths and parallel executions [3][4].\n",
       "\n",
       "Both frameworks are scalable, with LangChain being suitable for both small and enterprise-level projects due to its integration capabilities with multiple providers and toolkits [2]. LangGraph, with its robust state management, offers better control over AI task interactions, essential for scaling workflows efficiently [4]. Despite their differences, both frameworks share a commitment to customizability, enabling developers to adapt components to the specific needs of their applications, which is vital in enhancing the performance and effectiveness of AI applications [2][3].\n",
       "\n",
       "From a practical implementation perspective, LangChain is recognized for its simplicity and ease of use, making it an excellent choice for developers who need to implement straightforward, linear workflows. Its modular architecture allows for rapid prototyping and integration with a wide array of pre-built connectors and utilities, beneficial for developers at various skill levels [1][2]. LangChain's design is well-suited for applications like chatbots and data retrieval systems, where the sequence of operations is predictable and does not require complex state management [3].\n",
       "\n",
       "LangGraph, built atop LangChain, is designed to handle more complex, non-linear workflows. It excels in scenarios requiring stateful orchestration and dynamic decision-making, such as virtual assistants that maintain context over long interactions. LangGraph's focus on cyclic and stateful processes demands a deeper understanding of graph-based workflows and is more suitable for experienced developers who need fine-grained control over their applications [1][4]. This framework is ideal for applications involving complex branching, looping, and multi-agent interactions, providing more control and flexibility at the cost of increased complexity and setup time [2][3].\n",
       "\n",
       "The distinct target audiences for each framework are notable. LangChain is favored by developers who prioritize ease of use and rapid deployment, while LangGraph appeals to those who require advanced features and are willing to invest time in mastering its intricacies. The choice between these frameworks ultimately depends on the specific needs of the application and the developer's experience level [4][5].\n",
       "\n",
       "In the context of business innovation and competitive advantage, both LangChain and LangGraph offer distinct benefits. LangChain is effective for applications requiring straightforward, linear task execution, enabling LLM capabilities quickly and efficiently, ideal for tasks such as data retrieval, processing, and output generation [1][2]. Its modular design allows for the integration of various components, facilitating the creation of customizable AI workflows [4]. LangGraph, on the other hand, is suited for complex, adaptive systems requiring sophisticated control and coordination, particularly in enterprise contexts where maintaining state, reliability, and context over long interactions is crucial [1][3].\n",
       "\n",
       "The combination of LangChain and LangGraph offers a unified AI solution that leverages the strengths of both frameworks. While LangChain provides the flexibility and modularity needed for simpler tasks, LangGraph enhances the system's ability to manage complex workflows and stateful interactions [3][4]. This synergy not only drives product development but also offers a significant competitive advantage by enabling businesses to create innovative, differentiated AI applications that can adapt to changing market demands.\n",
       "\n",
       "In conclusion, while both LangChain and LangGraph are powerful tools for AI development, their ideal use cases differ. LangChain is best suited for sequential AI applications, while LangGraph excels in orchestrating complex, non-linear workflows. Understanding these differences is crucial for developers and businesses looking to leverage these frameworks effectively in their projects [4].\n",
       "\n",
       "\n",
       "\n",
       "--\n",
       "\n",
       "## Conclusion\n",
       "\n",
       "In the dynamic realm of AI and NLP, LangChain and LangGraph stand out as pivotal frameworks, each offering unique advantages. LangChain's modular approach facilitates the creation of customizable and scalable workflows, making it ideal for straightforward, linear applications. Conversely, LangGraph excels in orchestrating complex, stateful workflows, suitable for applications requiring intricate decision-making. Both frameworks provide scalability and customizability, essential for tailoring solutions to specific tasks. While LangChain is favored for its simplicity and rapid deployment, LangGraph appeals to those needing advanced features. Together, they offer a comprehensive solution, empowering businesses to innovate and maintain a competitive edge in AI development.\n",
       "\n",
       " ## Sources\n",
       "[1] https://orq.ai/blog/langchain-vs-langgraph  \n",
       "[2] https://blog.blockmagnates.com/langchain-vs-langgraph-a-comprehensive-comparison-of-language-model-frameworks-ec8a88785c6d  \n",
       "[3] https://mlpills.substack.com/p/issue-86-langchain-vs-langgraph  \n",
       "[4] https://rentprompts.com/blog/langchain-vs-langgraph-a-deep-dive-into-ai-workflow-automation  \n",
       "[5] https://ithy.com/article/langgraph-vs-langchain-uckeyb5"
      ],
      "text/plain": [
       "<IPython.core.display.Markdown object>"
      ]
     },
     "execution_count": 10,
     "metadata": {},
     "output_type": "execute_result"
    }
   ],
   "source": [
    "final_state = researcher.get_state(thread)\n",
    "report = final_state.values.get('final_report')\n",
    "Markdown(report)"
   ]
  }
 ],
 "metadata": {
  "kernelspec": {
   "display_name": "research_agent-snAT39sT",
   "language": "python",
   "name": "python3"
  },
  "language_info": {
   "codemirror_mode": {
    "name": "ipython",
    "version": 3
   },
   "file_extension": ".py",
   "mimetype": "text/x-python",
   "name": "python",
   "nbconvert_exporter": "python",
   "pygments_lexer": "ipython3",
   "version": "3.11.9"
  }
 },
 "nbformat": 4,
 "nbformat_minor": 2
}
